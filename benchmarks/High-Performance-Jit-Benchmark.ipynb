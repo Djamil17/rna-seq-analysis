{
 "cells": [
  {
   "cell_type": "code",
   "execution_count": 11,
   "metadata": {},
   "outputs": [],
   "source": [
    "import numpy as np\n",
    "import pandas as pd \n",
    "from ipynb.fs.full.Quantile_Normalization import quantile_norm, quantile_norm_log\n",
    "from numba import jit \n",
    "\n",
    "\n",
    "## benchmark\n",
    "\n",
    "## generate fake count data\n",
    "\n",
    "def make_count_data(n):\n",
    "    ### generate data \n",
    "    rng=np.random.RandomState(1917)\n",
    "    X=rng.randint(10000,size=(n,n//2))\n",
    "    return X    "
   ]
  },
  {
   "cell_type": "code",
   "execution_count": 25,
   "metadata": {},
   "outputs": [],
   "source": [
    "test_values=np.array([10,100, 1000,100000,1000000])\n",
    "\n",
    "@jit \n",
    "def make_arrays():\n",
    "    dfs=[make_count_data(val) for val in test_values]\n",
    "    dfs=np.array(dfs)\n",
    "    return dfs\n",
    "\n"
   ]
  },
  {
   "cell_type": "code",
   "execution_count": 26,
   "metadata": {},
   "outputs": [
    {
     "name": "stdout",
     "output_type": "stream",
     "text": [
      "24.6 ns ± 0.321 ns per loop (mean ± std. dev. of 7 runs, 10000000 loops each)\n"
     ]
    }
   ],
   "source": [
    "@jit\n",
    "def execute_quantile_norm():\n",
    "    results=[quantile_norm(dfs[i]) for i in range(dfs)]\n",
    "    array_results=np.array(results)\n",
    "    return array_results\n",
    "    \n",
    "%timeit execute_quantile_norm\n"
   ]
  }
 ],
 "metadata": {
  "kernelspec": {
   "display_name": "Python 3",
   "language": "python",
   "name": "python3"
  },
  "language_info": {
   "codemirror_mode": {
    "name": "ipython",
    "version": 3
   },
   "file_extension": ".py",
   "mimetype": "text/x-python",
   "name": "python",
   "nbconvert_exporter": "python",
   "pygments_lexer": "ipython3",
   "version": "3.7.1"
  }
 },
 "nbformat": 4,
 "nbformat_minor": 2
}
